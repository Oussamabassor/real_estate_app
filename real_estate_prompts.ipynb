{
 "cells": [
  {
   "cell_type": "markdown",
   "id": "f4b9795c",
   "metadata": {},
   "source": [
    "# Modern Real Estate Website & Admin Dashboard Prompts\n",
    "\n",
    "This notebook contains structured prompts for designing a modern real estate website and admin dashboard using Tailwind CSS."
   ]
  }
 ],
 "metadata": {
  "language_info": {
   "name": "python"
  }
 },
 "nbformat": 4,
 "nbformat_minor": 5
}
